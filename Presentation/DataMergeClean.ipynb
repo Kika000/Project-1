{
 "cells": [
  {
   "cell_type": "code",
   "execution_count": 6,
   "metadata": {},
   "outputs": [],
   "source": [
    "%matplotlib inline\n",
    "import matplotlib.pyplot as plt\n",
    "import pandas as pd"
   ]
  },
  {
   "cell_type": "code",
   "execution_count": 7,
   "metadata": {},
   "outputs": [],
   "source": [
    "#load csv data for each demographic variable\n",
    "pull_GDP = \"../Clean Data/GDPClean.csv\"\n",
    "pull_happy = \"../Data/World Happiness 2016.csv\"\n",
    "\n",
    "\n",
    "GDPClean = pd.read_csv(pull_GDP)\n",
    "happy = pd.read_csv(pull_happy)\n"
   ]
  },
  {
   "cell_type": "markdown",
   "metadata": {},
   "source": [
    "## Merge Happiness score with GDP"
   ]
  },
  {
   "cell_type": "code",
   "execution_count": 8,
   "metadata": {},
   "outputs": [
    {
     "data": {
      "text/plain": [
       "Country              283\n",
       "Happiness Rank       157\n",
       "Happiness Score      157\n",
       "GDP (current US$)    250\n",
       "dtype: int64"
      ]
     },
     "execution_count": 8,
     "metadata": {},
     "output_type": "execute_result"
    }
   ],
   "source": [
    "#Start with an out merge to identify which countries are present but named differently\n",
    "Happy_GDP = pd.merge(happy, GDPClean, how = \"outer\")\n",
    "\n",
    "#export file to check in excel\n",
    "output_data_file = \"Happy_GPD.csv\"\n",
    "Happy_GDP.to_csv(output_data_file, index=False)\n",
    "\n",
    "Happy_GDP.count()"
   ]
  },
  {
   "cell_type": "code",
   "execution_count": 9,
   "metadata": {},
   "outputs": [
    {
     "data": {
      "text/plain": [
       "Country              157\n",
       "Happiness Rank       157\n",
       "Happiness Score      157\n",
       "GDP (current US$)    152\n",
       "dtype: int64"
      ]
     },
     "execution_count": 9,
     "metadata": {},
     "output_type": "execute_result"
    }
   ],
   "source": [
    "#looking at the exported csv countries that are named differently were identified and will be replaced\n",
    "C_rename = {\"Yemen, Rep.\":\"Yemen\",\"Slovak Republic\":\"Slovakia\",\"Russian Federation\":\"Russia\",\"North Macedonia\":\"Macedonia\",\n",
    "\"Lao PDR\":\"Laos\",\"Kyrgyz Republic\":\"Kyrgyzstan\",\"Korea, Rep.\":\"South Korea\",\"Iran, Islamic Rep.\":\"Iran\",\n",
    "\"Hong Kong SAR, China\":\"Hong Kong\",\"Egypt, Arab Rep.\":\"Egypt\",\"Cote d'Ivoire\":\"Ivory Coast\",\n",
    "\"Congo, Dem. Rep.\":\"Congo (Kinshasa)\",\"Congo, Rep.\":\"Congo (Brazzaville)\",\"West Bank and Gaza\":\"Palestinian Territories\"}\n",
    "#Countries not present in GDP: \"North Cyprus\", \"Somaliland Region\",\"Syria\",\"Venezuela\",\"Taiwan\"\n",
    "\n",
    "GDPClean2 = GDPClean.replace(C_rename)\n",
    "Happy_GDP = pd.merge(happy, GDPClean2, how = \"left\")\n",
    "\n",
    "#export file to check in excel\n",
    "output_data_file = \"Happy_GPD2.csv\"\n",
    "Happy_GDP.to_csv(output_data_file, index=False)\n",
    "Happy_GDP.count()\n"
   ]
  },
  {
   "cell_type": "code",
   "execution_count": 10,
   "metadata": {},
   "outputs": [
    {
     "data": {
      "text/html": [
       "<div>\n",
       "<style scoped>\n",
       "    .dataframe tbody tr th:only-of-type {\n",
       "        vertical-align: middle;\n",
       "    }\n",
       "\n",
       "    .dataframe tbody tr th {\n",
       "        vertical-align: top;\n",
       "    }\n",
       "\n",
       "    .dataframe thead th {\n",
       "        text-align: right;\n",
       "    }\n",
       "</style>\n",
       "<table border=\"1\" class=\"dataframe\">\n",
       "  <thead>\n",
       "    <tr style=\"text-align: right;\">\n",
       "      <th></th>\n",
       "      <th>Country</th>\n",
       "      <th>Happiness Rank</th>\n",
       "      <th>Happiness Score</th>\n",
       "      <th>GDP (current US$)</th>\n",
       "    </tr>\n",
       "  </thead>\n",
       "  <tbody>\n",
       "    <tr>\n",
       "      <th>0</th>\n",
       "      <td>Denmark</td>\n",
       "      <td>1</td>\n",
       "      <td>7.526</td>\n",
       "      <td>3.120000e+11</td>\n",
       "    </tr>\n",
       "    <tr>\n",
       "      <th>1</th>\n",
       "      <td>Switzerland</td>\n",
       "      <td>2</td>\n",
       "      <td>7.509</td>\n",
       "      <td>6.700000e+11</td>\n",
       "    </tr>\n",
       "    <tr>\n",
       "      <th>2</th>\n",
       "      <td>Iceland</td>\n",
       "      <td>3</td>\n",
       "      <td>7.501</td>\n",
       "      <td>2.071602e+10</td>\n",
       "    </tr>\n",
       "    <tr>\n",
       "      <th>3</th>\n",
       "      <td>Norway</td>\n",
       "      <td>4</td>\n",
       "      <td>7.498</td>\n",
       "      <td>3.710000e+11</td>\n",
       "    </tr>\n",
       "    <tr>\n",
       "      <th>4</th>\n",
       "      <td>Finland</td>\n",
       "      <td>5</td>\n",
       "      <td>7.413</td>\n",
       "      <td>2.390000e+11</td>\n",
       "    </tr>\n",
       "  </tbody>\n",
       "</table>\n",
       "</div>"
      ],
      "text/plain": [
       "       Country  Happiness Rank  Happiness Score  GDP (current US$)\n",
       "0      Denmark               1            7.526       3.120000e+11\n",
       "1  Switzerland               2            7.509       6.700000e+11\n",
       "2      Iceland               3            7.501       2.071602e+10\n",
       "3       Norway               4            7.498       3.710000e+11\n",
       "4      Finland               5            7.413       2.390000e+11"
      ]
     },
     "execution_count": 10,
     "metadata": {},
     "output_type": "execute_result"
    }
   ],
   "source": [
    "Happy_GDP.head()"
   ]
  },
  {
   "cell_type": "code",
   "execution_count": null,
   "metadata": {},
   "outputs": [],
   "source": []
  }
 ],
 "metadata": {
  "kernelspec": {
   "display_name": "Python 3",
   "language": "python",
   "name": "python3"
  },
  "language_info": {
   "codemirror_mode": {
    "name": "ipython",
    "version": 3
   },
   "file_extension": ".py",
   "mimetype": "text/x-python",
   "name": "python",
   "nbconvert_exporter": "python",
   "pygments_lexer": "ipython3",
   "version": "3.7.3"
  }
 },
 "nbformat": 4,
 "nbformat_minor": 2
}
