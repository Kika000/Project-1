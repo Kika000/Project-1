{
 "cells": [
  {
   "cell_type": "code",
   "execution_count": 416,
   "metadata": {},
   "outputs": [],
   "source": [
    "%matplotlib inline\n",
    "import pandas as pd"
   ]
  },
  {
   "cell_type": "code",
   "execution_count": 417,
   "metadata": {},
   "outputs": [],
   "source": [
    "internet_path = \"../Data/Number of Internet Users 2016.csv\"\n",
    "sleep_path = \"../Data/Sleeping Hour 2016 OECD Countries.csv\"\n",
    "disaster_path = \"../Data/Disaster Ranking 2016.csv\"\n",
    "population_path = \"../Clean Data/PopulationTotalClean.csv\"\n",
    "internet = pd.read_csv(internet_path)\n",
    "sleep = pd.read_csv(sleep_path)\n",
    "disaster = pd.read_csv(disaster_path)\n",
    "populationfile = pd.read_csv(population_path)[[\"Country\",\"Population Total\"]].dropna().reset_index(drop = True)\n",
    "populationfile.columns=[[\"Country\",\"Population\"]]\n",
    "\n",
    "internet1 = internet[internet.Year==2016][[\"Country\",\"Number of internet users\"]].reset_index(drop=True)\n",
    "internet1.columns=[[\"Country\",\"Users\"]]\n",
    "\n",
    "internetrate = pd.merge(internet1,populationfile)\n",
    "internetrate[\"Population\"]=(internetrate[\"Population\"]).astype(float)\n",
    "internetrate[\"Users\"]=internetrate[\"Users\"].astype(float)\n",
    "internetrate.to_csv(\"../Clean Data/internetrate.csv\")\n",
    "inter=pd.read_csv(\"../Clean Data/internetrate.csv\")\n",
    "inter[\"Access Rate\"]= inter[\"Users\"]/inter[\"Population\"]\n",
    "inter[[\"Country\",\"Access Rate\"]].to_csv(\"../Clean Data/Internetrateclean.csv\")\n",
    "\n",
    "disaster = disaster[[\"Countries\",\"2016\"]].rename(columns={\"Countries\":\"Country\",\"2016\":\"Disaster rate\"})\n",
    "disaster.Country = disaster[\"Country\"].str.strip()\n",
    "disaster.to_csv(\"../Clean Data/Disasterrateclean.csv\")\n",
    "\n",
    "sleep[\"Average (Hours)\"] = round((sleep.Male + sleep.Female)/(2*60),2)\n",
    "sleep[[\"Country\",\"Average (Hours)\"]].to_csv(\"../Clean Data/Sleepingclean.csv\")"
   ]
  },
  {
   "cell_type": "code",
   "execution_count": null,
   "metadata": {},
   "outputs": [],
   "source": []
  }
 ],
 "metadata": {
  "kernelspec": {
   "display_name": "Python 3",
   "language": "python",
   "name": "python3"
  },
  "language_info": {
   "codemirror_mode": {
    "name": "ipython",
    "version": 3
   },
   "file_extension": ".py",
   "mimetype": "text/x-python",
   "name": "python",
   "nbconvert_exporter": "python",
   "pygments_lexer": "ipython3",
   "version": "3.7.3"
  }
 },
 "nbformat": 4,
 "nbformat_minor": 2
}
