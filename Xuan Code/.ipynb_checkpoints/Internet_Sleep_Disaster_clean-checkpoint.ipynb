{
 "cells": [
  {
   "cell_type": "code",
   "execution_count": 65,
   "metadata": {},
   "outputs": [],
   "source": [
    "%matplotlib inline\n",
    "import pandas as pd\n",
    "import numpy as np\n",
    "import scipy.stats as stats"
   ]
  },
  {
   "cell_type": "code",
   "execution_count": 66,
   "metadata": {},
   "outputs": [],
   "source": [
    "internet_path = \"../Data/Number of Internet Users 2016.csv\"\n",
    "sleep_path = \"../Data/Sleeping Hour 2016 OECD Countries.csv\"\n",
    "disaster_path = \"../Data/Disaster Ranking 2016.csv\"\n",
    "internet = pd.read_csv(internet_path)\n",
    "sleep = pd.read_csv(sleep_path)\n",
    "disaster = pd.read_csv(disaster_path)\n",
    "internet = internet[internet.Year==2016][[\"Country\",\"Number of internet users\"]].reset_index(drop=True)\n",
    "internet.rename(columns={\"Number of internet users\":\"Users\"})\n",
    "disaster = disaster[[\"Countries\",\"2016\"]].rename(columns={\"Countries\":\"Country\",\"2016\":\"Disaster rate\"})\n",
    "sleep[\"Average (Hours)\"] = round((sleep.Male + sleep.Female)/(2*60),2)\n",
    "sleep[[\"Country\",\"Average (Hours)\"]].to_csv(\"../Clean Data/Sleepingclean.csv\")\n",
    "internet.to_csv(\"../Clean Data/Internetclean.csv\")\n",
    "disaster.to_csv(\"../Clean Data/Disasterrateclean.csv\")"
   ]
  },
  {
   "cell_type": "code",
   "execution_count": null,
   "metadata": {},
   "outputs": [],
   "source": []
  },
  {
   "cell_type": "code",
   "execution_count": null,
   "metadata": {},
   "outputs": [],
   "source": []
  }
 ],
 "metadata": {
  "kernelspec": {
   "display_name": "Python 3",
   "language": "python",
   "name": "python3"
  },
  "language_info": {
   "codemirror_mode": {
    "name": "ipython",
    "version": 3
   },
   "file_extension": ".py",
   "mimetype": "text/x-python",
   "name": "python",
   "nbconvert_exporter": "python",
   "pygments_lexer": "ipython3",
   "version": "3.7.3"
  }
 },
 "nbformat": 4,
 "nbformat_minor": 2
}
