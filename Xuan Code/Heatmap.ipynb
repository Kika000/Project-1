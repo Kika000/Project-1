{
 "cells": [
  {
   "cell_type": "code",
   "execution_count": 29,
   "metadata": {},
   "outputs": [],
   "source": [
    "import warnings\n",
    "warnings.filterwarnings('ignore')"
   ]
  },
  {
   "cell_type": "code",
   "execution_count": 101,
   "metadata": {},
   "outputs": [],
   "source": [
    "from config import gkey\n",
    "import gmaps\n",
    "import numpy as np\n",
    "import pandas as pd\n",
    "import requests\n",
    "import matplotlib.pyplot as plt"
   ]
  },
  {
   "cell_type": "code",
   "execution_count": 119,
   "metadata": {},
   "outputs": [],
   "source": [
    "analysisdata = pd.read_csv(\"analysisdata.csv\")[[\"Country\",\"2016\",\"Disaster rate\",\"Internet Access Rate\"]]\n",
    "analysisOECDdata = pd.read_csv(\"analysisOECDdata.csv\")[[\"Country\",\"2016\",\"Disaster rate\",\"Internet Access Rate\",\"Average Sleeping (Hours)\"]]\n",
    "location= pd.read_csv(\"../Xuan Code/country-capitals.csv\")[[\"CountryName\",\"CapitalLatitude\",\"CapitalLongitude\"]]\n",
    "location.columns=[[\"Country\",\"Lat\",\"Lng\"]]\n",
    "location.to_csv(\"coordinate.csv\")\n",
    "newlocation = pd.read_csv(\"coordinate.csv\")[[\"Country\",\"Lat\",\"Lng\"]]\n",
    "analysisdata_location = pd.merge(analysisdata,newlocation,on = \"Country\")\n"
   ]
  },
  {
   "cell_type": "code",
   "execution_count": 120,
   "metadata": {},
   "outputs": [],
   "source": [
    "gmaps.configure(api_key = gkey)\n",
    "locations = analysisdata_location[[\"Lat\",\"Lng\"]]\n",
    "happiness = analysisdata_location[\"2016\"]\n",
    "internet = analysisdata_location[\"Internet Access Rate\"]\n",
    "disaster = analysisdata_location[\"Disaster rate\"]\n",
    "country = analysisdata_location[\"Country\"]\n"
   ]
  },
  {
   "cell_type": "code",
   "execution_count": 121,
   "metadata": {
    "scrolled": true
   },
   "outputs": [
    {
     "data": {
      "application/vnd.jupyter.widget-view+json": {
       "model_id": "06a8d4a2fb3649c390bd6b98a1092dec",
       "version_major": 2,
       "version_minor": 0
      },
      "text/plain": [
       "Figure(layout=FigureLayout(height='420px'))"
      ]
     },
     "metadata": {},
     "output_type": "display_data"
    }
   ],
   "source": [
    "fig = gmaps.figure()\n",
    "heat_layer = gmaps.heatmap_layer(locations, weights=happiness, \n",
    "                                 dissipating=False, max_intensity=10,\n",
    "                                 point_radius = 2)\n",
    "happiness_layer = gmaps.symbol_layer(locations, fill_color='rgba(0, 150, 0, 0.4)',\n",
    "                                    stroke_color='rgba(0, 0, 150, 0.4)', scale=2,\n",
    "                                    info_box_content=[f\"Happiness Score: {score}\" for score in happiness])\n",
    "fig.add_layer(heat_layer)\n",
    "fig.add_layer(happiness_layer)\n",
    "fig"
   ]
  },
  {
   "cell_type": "code",
   "execution_count": 124,
   "metadata": {},
   "outputs": [
    {
     "data": {
      "application/vnd.jupyter.widget-view+json": {
       "model_id": "ec0f15d2ed064c6faf828eca68209c3a",
       "version_major": 2,
       "version_minor": 0
      },
      "text/plain": [
       "Figure(layout=FigureLayout(height='420px'))"
      ]
     },
     "metadata": {},
     "output_type": "display_data"
    }
   ],
   "source": [
    "happiness_layer = gmaps.symbol_layer(\n",
    "    locations, fill_color='rgba(0, 150, 0, 0.4)',\n",
    "    stroke_color='rgba(0, 0, 150, 0.4)', scale=2,\n",
    "    info_box_content=[f\"Happiness Score: {score}\" for score in happiness]\n",
    ")\n",
    "fig = gmaps.figure()\n",
    "fig.add_layer(happiness_layer)\n",
    "\n",
    "fig"
   ]
  },
  {
   "cell_type": "code",
   "execution_count": 125,
   "metadata": {},
   "outputs": [],
   "source": [
    "from matplotlib.cm import viridis\n",
    "from matplotlib.cm import RdBu\n",
    "from matplotlib.cm import jet\n",
    "from matplotlib.colors import to_hex"
   ]
  },
  {
   "cell_type": "code",
   "execution_count": 126,
   "metadata": {},
   "outputs": [],
   "source": [
    "from matplotlib.colors import LinearSegmentedColormap\n",
    "\n",
    "def grayscale_cmap(cmap):\n",
    "    \"\"\"Return a grayscale version of the given colormap\"\"\"\n",
    "    cmap = plt.cm.get_cmap(cmap)\n",
    "    colors = cmap(np.arange(cmap.N))\n",
    "    \n",
    "    # convert RGBA to perceived grayscale luminance\n",
    "    # cf. http://alienryderflex.com/hsp.html\n",
    "    RGB_weight = [0.299, 0.587, 0.114]\n",
    "    luminance = np.sqrt(np.dot(colors[:, :3] ** 2, RGB_weight))\n",
    "    colors[:, :3] = luminance[:, np.newaxis]\n",
    "        \n",
    "    return LinearSegmentedColormap.from_list(cmap.name + \"_gray\", colors, cmap.N)\n",
    "    "
   ]
  },
  {
   "cell_type": "code",
   "execution_count": 127,
   "metadata": {},
   "outputs": [],
   "source": [
    "def view_colormap(cmap):\n",
    "    \"\"\"Plot a colormap with its grayscale equivalent\"\"\"\n",
    "    cmap = plt.cm.get_cmap(cmap)\n",
    "    colors = cmap(np.arange(cmap.N))\n",
    "    \n",
    "    cmap = grayscale_cmap(cmap)\n",
    "    grayscale = cmap(np.arange(cmap.N))\n",
    "    \n",
    "    fig, ax = plt.subplots(2, figsize=(6, 2),\n",
    "                           subplot_kw=dict(xticks=[], yticks=[]))\n",
    "    ax[0].imshow([colors], extent=[0, 10, 0, 1])\n",
    "    ax[1].imshow([grayscale], extent=[0, 10, 0, 1])"
   ]
  },
  {
   "cell_type": "code",
   "execution_count": 52,
   "metadata": {},
   "outputs": [],
   "source": []
  },
  {
   "cell_type": "code",
   "execution_count": 128,
   "metadata": {},
   "outputs": [
    {
     "data": {
      "image/png": "[encoded data removed]",
      "text/plain": [
       "<Figure size 432x144 with 2 Axes>"
      ]
     },
     "metadata": {},
     "output_type": "display_data"
    }
   ],
   "source": [
    "view_colormap(RdBu)"
   ]
  },
  {
   "cell_type": "code",
   "execution_count": 129,
   "metadata": {},
   "outputs": [
    {
     "data": {
      "image/png": "[encoded data removed]",
      "text/plain": [
       "<Figure size 432x144 with 2 Axes>"
      ]
     },
     "metadata": {},
     "output_type": "display_data"
    }
   ],
   "source": [
    "view_colormap(jet)"
   ]
  },
  {
   "cell_type": "code",
   "execution_count": 141,
   "metadata": {},
   "outputs": [
    {
     "data": {
      "application/vnd.jupyter.widget-view+json": {
       "model_id": "f02cdd6490634bc6be8fd43a5e56af4b",
       "version_major": 2,
       "version_minor": 0
      },
      "text/plain": [
       "Figure(layout=FigureLayout(height='420px'))"
      ]
     },
     "metadata": {},
     "output_type": "display_data"
    }
   ],
   "source": [
    "import gmaps\n",
    "import gmaps.geojson_geometries\n",
    "#colors = happiness\n",
    "gmaps.configure(api_key=gkey)\n",
    "\n",
    "countries_geojson = gmaps.geojson_geometries.load_geometry(\"countries\")\n",
    "fig = gmaps.figure()\n",
    "\n",
    "gini_layer = gmaps.geojson_layer(countries_geojson,fill_color='rgba(100, 150, 0, 0.4)',stroke_color='rgba(0, 0, 150, 0.4)')\n",
    "fig.add_layer(gini_layer)\n",
    "fig\n"
   ]
  },
  {
   "cell_type": "code",
   "execution_count": 130,
   "metadata": {},
   "outputs": [],
   "source": [
    "import json\n",
    ">>> import requests\n",
    ">>> countries_string = requests.get(\n",
    "    \"https://raw.githubusercontent.com/johan/world.geo.json/master/countries.geo.json\"\n",
    ").content\n",
    ">>> countries = json.loads(countries_string)"
   ]
  },
  {
   "cell_type": "code",
   "execution_count": 133,
   "metadata": {},
   "outputs": [
    {
     "name": "stdout",
     "output_type": "stream",
     "text": [
      "32.4\n"
     ]
    }
   ],
   "source": [
    "import gmaps.datasets\n",
    "rows = gmaps.datasets.load_dataset('gini') # 'rows' is a list of tuples\n",
    "country2gini = dict(rows) # dictionary mapping 'country' -> gini coefficient\n",
    "print(country2gini['United Kingdom'])\n"
   ]
  },
  {
   "cell_type": "code",
   "execution_count": 200,
   "metadata": {},
   "outputs": [],
   "source": [
    "from matplotlib.cm import viridis\n",
    "from matplotlib.colors import to_hex\n",
    "\n",
    "# We will need to scale the GINI values to lie between 0 and 1\n",
    "min_gini = min(country2gini.values())\n",
    "max_gini = max(country2gini.values())\n",
    "gini_range = max_gini - min_gini\n",
    "\n",
    "def calculate_color(gini):\n",
    "    \"\"\"\n",
    "    Convert the GINI coefficient to a color\n",
    "    \"\"\"\n",
    "    # make gini a number between 0 and 1\n",
    "    normalized_gini = (gini - min_gini) / gini_range\n",
    "\n",
    "    # invert gini so that high inequality gives dark color\n",
    "    inverse_gini = 1.0 - normalized_gini\n",
    "\n",
    "    # transform the gini coefficient to a matplotlib color\n",
    "    mpl_color = viridis(inverse_gini)\n",
    "\n",
    "    # transform from a matplotlib color to a valid CSS color\n",
    "    gmaps_color = to_hex(mpl_color, keep_alpha=False)\n",
    "\n",
    "    return gmaps_color\n"
   ]
  },
  {
   "cell_type": "code",
   "execution_count": 199,
   "metadata": {},
   "outputs": [
    {
     "data": {
      "text/plain": [
       "'Zimbabwe'"
      ]
     },
     "execution_count": 199,
     "metadata": {},
     "output_type": "execute_result"
    }
   ],
   "source": [
    "country_name"
   ]
  },
  {
   "cell_type": "code",
   "execution_count": 201,
   "metadata": {},
   "outputs": [],
   "source": [
    "colors = []\n",
    "for feature in countries_geojson['features']:\n",
    "    country_name = feature['properties']['name']\n",
    "    try:\n",
    "        gini = country2gini[country_name]\n",
    "        color = calculate_color(gini)\n",
    "    except KeyError:\n",
    "        # no GINI for that country: return default color\n",
    "        color = (0, 0, 0, 0.3)\n",
    "    colors.append(color)"
   ]
  },
  {
   "cell_type": "code",
   "execution_count": 202,
   "metadata": {},
   "outputs": [
    {
     "data": {
      "application/vnd.jupyter.widget-view+json": {
       "model_id": "e0336b6091aa478f9130f6e5f993ee2e",
       "version_major": 2,
       "version_minor": 0
      },
      "text/plain": [
       "Figure(layout=FigureLayout(height='420px'))"
      ]
     },
     "metadata": {},
     "output_type": "display_data"
    }
   ],
   "source": [
    "fig = gmaps.figure()\n",
    "gini_layer = gmaps.geojson_layer(\n",
    "countries_geojson,\n",
    "fill_color=colors,\n",
    "stroke_color=colors,\n",
    "fill_opacity=0.8)\n",
    "fig.add_layer(gini_layer)\n",
    "fig\n"
   ]
  },
  {
   "cell_type": "code",
   "execution_count": 203,
   "metadata": {},
   "outputs": [
    {
     "data": {
      "text/plain": [
       "217"
      ]
     },
     "execution_count": 203,
     "metadata": {},
     "output_type": "execute_result"
    }
   ],
   "source": [
    "len(colors)"
   ]
  },
  {
   "cell_type": "code",
   "execution_count": 205,
   "metadata": {},
   "outputs": [
    {
     "data": {
      "text/plain": [
       "'#fde725'"
      ]
     },
     "execution_count": 205,
     "metadata": {},
     "output_type": "execute_result"
    }
   ],
   "source": [
    "calculate_color(6)"
   ]
  },
  {
   "cell_type": "code",
   "execution_count": 206,
   "metadata": {},
   "outputs": [
    {
     "data": {
      "text/plain": [
       "[(0, 0, 0, 0.3),\n",
       " (0, 0, 0, 0.3),\n",
       " '#a5db36',\n",
       " (0, 0, 0, 0.3),\n",
       " (0, 0, 0, 0.3),\n",
       " (0, 0, 0, 0.3),\n",
       " '#27808e',\n",
       " '#8ed645',\n",
       " (0, 0, 0, 0.3),\n",
       " (0, 0, 0, 0.3),\n",
       " (0, 0, 0, 0.3),\n",
       " (0, 0, 0, 0.3),\n",
       " '#8ed645',\n",
       " '#a0da39',\n",
       " '#5ac864',\n",
       " '#1f948c',\n",
       " '#dae319',\n",
       " '#37b878',\n",
       " '#21a685',\n",
       " '#70cf57',\n",
       " '#42be71',\n",
       " (0, 0, 0, 0.3),\n",
       " (0, 0, 0, 0.3),\n",
       " '#3aba76',\n",
       " '#d0e11c',\n",
       " (0, 0, 0, 0.3),\n",
       " '#297a8e',\n",
       " '#38588c',\n",
       " (0, 0, 0, 0.3),\n",
       " (0, 0, 0, 0.3),\n",
       " '#25ac82',\n",
       " '#481467',\n",
       " '#460b5e',\n",
       " '#70cf57',\n",
       " '#aadc32',\n",
       " '#39568c',\n",
       " '#2a788e',\n",
       " '#1f9a8a',\n",
       " '#24878e',\n",
       " (0, 0, 0, 0.3),\n",
       " (0, 0, 0, 0.3),\n",
       " (0, 0, 0, 0.3),\n",
       " '#3d4d8a',\n",
       " (0, 0, 0, 0.3),\n",
       " (0, 0, 0, 0.3),\n",
       " '#33638d',\n",
       " (0, 0, 0, 0.3),\n",
       " (0, 0, 0, 0.3),\n",
       " (0, 0, 0, 0.3),\n",
       " (0, 0, 0, 0.3),\n",
       " '#4ac16d',\n",
       " '#ece51b',\n",
       " '#c8e020',\n",
       " '#1f9e89',\n",
       " (0, 0, 0, 0.3),\n",
       " '#ece51b',\n",
       " '#2a778e',\n",
       " '#44bf70',\n",
       " '#2e6f8e',\n",
       " '#86d549',\n",
       " (0, 0, 0, 0.3),\n",
       " '#3dbc74',\n",
       " '#40bd72',\n",
       " '#63cb5f',\n",
       " '#cae11f',\n",
       " (0, 0, 0, 0.3),\n",
       " (0, 0, 0, 0.3),\n",
       " '#90d743',\n",
       " (0, 0, 0, 0.3),\n",
       " (0, 0, 0, 0.3),\n",
       " (0, 0, 0, 0.3),\n",
       " '#6ccd5a',\n",
       " '#277e8e',\n",
       " '#1f958b',\n",
       " '#22a785',\n",
       " '#32648e',\n",
       " (0, 0, 0, 0.3),\n",
       " (0, 0, 0, 0.3),\n",
       " '#35b779',\n",
       " (0, 0, 0, 0.3),\n",
       " (0, 0, 0, 0.3),\n",
       " '#3c508b',\n",
       " (0, 0, 0, 0.3),\n",
       " '#24878e',\n",
       " '#3e4c8a',\n",
       " (0, 0, 0, 0.3),\n",
       " '#472c7a',\n",
       " '#73d056',\n",
       " '#471164',\n",
       " '#89d548',\n",
       " '#34b679',\n",
       " (0, 0, 0, 0.3),\n",
       " '#5ac864',\n",
       " '#7cd250',\n",
       " '#24878e',\n",
       " (0, 0, 0, 0.3),\n",
       " '#b5de2b',\n",
       " '#20928c',\n",
       " '#73d056',\n",
       " '#26828e',\n",
       " '#21a585',\n",
       " '#2ab07f',\n",
       " (0, 0, 0, 0.3),\n",
       " (0, 0, 0, 0.3),\n",
       " '#a5db36',\n",
       " '#20938c',\n",
       " '#5ec962',\n",
       " '#2ab07f',\n",
       " (0, 0, 0, 0.3),\n",
       " (0, 0, 0, 0.3),\n",
       " '#90d743',\n",
       " '#93d741',\n",
       " (0, 0, 0, 0.3),\n",
       " '#35b779',\n",
       " (0, 0, 0, 0.3),\n",
       " (0, 0, 0, 0.3),\n",
       " (0, 0, 0, 0.3),\n",
       " (0, 0, 0, 0.3),\n",
       " (0, 0, 0, 0.3),\n",
       " '#2f6c8e',\n",
       " (0, 0, 0, 0.3),\n",
       " '#42be71',\n",
       " '#8bd646',\n",
       " '#46c06f',\n",
       " '#1f9e89',\n",
       " '#addc30',\n",
       " '#2b748e',\n",
       " '#2d708e',\n",
       " '#228d8d',\n",
       " '#1fa287',\n",
       " '#bade28',\n",
       " (0, 0, 0, 0.3),\n",
       " '#d5e21a',\n",
       " '#37b878',\n",
       " (0, 0, 0, 0.3),\n",
       " '#26818e',\n",
       " '#24aa83',\n",
       " '#3dbc74',\n",
       " '#24aa83',\n",
       " '#287d8e',\n",
       " '#481b6d',\n",
       " (0, 0, 0, 0.3),\n",
       " '#56c667',\n",
       " '#228d8d',\n",
       " '#1fa188',\n",
       " (0, 0, 0, 0.3),\n",
       " '#e7e419',\n",
       " '#cae11f',\n",
       " '#65cb5e',\n",
       " '#3aba76',\n",
       " (0, 0, 0, 0.3),\n",
       " '#9bd93c',\n",
       " '#38588c',\n",
       " '#26828e',\n",
       " '#277e8e',\n",
       " (0, 0, 0, 0.3),\n",
       " '#355f8d',\n",
       " '#6ccd5a',\n",
       " (0, 0, 0, 0.3),\n",
       " (0, 0, 0, 0.3),\n",
       " '#52c569',\n",
       " '#3c4f8a',\n",
       " '#4ec36b',\n",
       " (0, 0, 0, 0.3),\n",
       " (0, 0, 0, 0.3),\n",
       " '#c2df23',\n",
       " '#1f978b',\n",
       " '#29798e',\n",
       " (0, 0, 0, 0.3),\n",
       " '#277f8e',\n",
       " (0, 0, 0, 0.3),\n",
       " '#277e8e',\n",
       " '#1fa187',\n",
       " '#287c8e',\n",
       " (0, 0, 0, 0.3),\n",
       " (0, 0, 0, 0.3),\n",
       " (0, 0, 0, 0.3),\n",
       " '#56c667',\n",
       " '#2a788e',\n",
       " (0, 0, 0, 0.3),\n",
       " (0, 0, 0, 0.3),\n",
       " (0, 0, 0, 0.3),\n",
       " (0, 0, 0, 0.3),\n",
       " (0, 0, 0, 0.3),\n",
       " (0, 0, 0, 0.3),\n",
       " '#d8e219',\n",
       " '#fde725',\n",
       " '#ece51b',\n",
       " '#33628d',\n",
       " (0, 0, 0, 0.3),\n",
       " '#218f8d',\n",
       " (0, 0, 0, 0.3),\n",
       " '#2d708e',\n",
       " '#69cd5b',\n",
       " '#1f9f88',\n",
       " '#73d056',\n",
       " (0, 0, 0, 0.3),\n",
       " (0, 0, 0, 0.3),\n",
       " '#20a386',\n",
       " '#1fa287',\n",
       " '#5ac864',\n",
       " '#2db27d',\n",
       " '#21a685',\n",
       " '#f1e51d',\n",
       " '#26828e',\n",
       " '#25848e',\n",
       " '#34b679',\n",
       " (0, 0, 0, 0.3),\n",
       " '#24aa83',\n",
       " (0, 0, 0, 0.3),\n",
       " '#2db27d',\n",
       " (0, 0, 0, 0.3),\n",
       " (0, 0, 0, 0.3),\n",
       " '#2ab07f',\n",
       " '#440154',\n",
       " '#472d7b',\n",
       " '#32648e']"
      ]
     },
     "execution_count": 206,
     "metadata": {},
     "output_type": "execute_result"
    }
   ],
   "source": [
    "colors"
   ]
  },
  {
   "cell_type": "code",
   "execution_count": null,
   "metadata": {},
   "outputs": [],
   "source": []
  }
 ],
 "metadata": {
  "kernelspec": {
   "display_name": "Python 3",
   "language": "python",
   "name": "python3"
  },
  "language_info": {
   "codemirror_mode": {
    "name": "ipython",
    "version": 3
   },
   "file_extension": ".py",
   "mimetype": "text/x-python",
   "name": "python",
   "nbconvert_exporter": "python",
   "pygments_lexer": "ipython3",
   "version": "3.7.3"
  }
 },
 "nbformat": 4,
 "nbformat_minor": 2
}
