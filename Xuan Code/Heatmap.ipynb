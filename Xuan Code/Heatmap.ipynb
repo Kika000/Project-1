{
 "cells": [
  {
   "cell_type": "code",
   "execution_count": 1,
   "metadata": {},
   "outputs": [],
   "source": [
    "import warnings\n",
    "warnings.filterwarnings('ignore')"
   ]
  },
  {
   "cell_type": "code",
   "execution_count": 2,
   "metadata": {},
   "outputs": [],
   "source": [
    "from config import gkey\n",
    "import gmaps\n",
    "import numpy as np\n",
    "import pandas as pd\n",
    "import requests\n",
    "import matplotlib.pyplot as plt"
   ]
  },
  {
   "cell_type": "code",
   "execution_count": 3,
   "metadata": {},
   "outputs": [],
   "source": [
    "analysisdata = pd.read_csv(\"analysisdata.csv\")[[\"Country\",\"2016\",\"Disaster rate\",\"Internet Access Rate\"]]\n",
    "analysisOECDdata = pd.read_csv(\"analysisOECDdata.csv\")[[\"Country\",\"2016\",\"Disaster rate\",\"Internet Access Rate\",\"Average Sleeping (Hours)\"]]\n",
    "location= pd.read_csv(\"../Xuan Code/country-capitals.csv\")[[\"CountryName\",\"CapitalLatitude\",\"CapitalLongitude\"]]\n",
    "location.columns=[[\"Country\",\"Lat\",\"Lng\"]]\n",
    "location.to_csv(\"coordinate.csv\")\n",
    "newlocation = pd.read_csv(\"coordinate.csv\")[[\"Country\",\"Lat\",\"Lng\"]]\n",
    "analysisdata.loc[analysisdata[\"Country\"]==\"United States\",\"Country\"]= \"United States of America\"\n",
    "analysisdata_location = pd.merge(analysisdata,newlocation,on = \"Country\")\n"
   ]
  },
  {
   "cell_type": "code",
   "execution_count": 4,
   "metadata": {},
   "outputs": [],
   "source": [
    "gmaps.configure(api_key = gkey)\n",
    "locations = analysisdata_location[[\"Lat\",\"Lng\"]]\n",
    "happiness = analysisdata_location[\"2016\"]\n",
    "internet = analysisdata_location[\"Internet Access Rate\"]\n",
    "disaster = analysisdata_location[\"Disaster rate\"]\n",
    "country = analysisdata_location[\"Country\"] "
   ]
  },
  {
   "cell_type": "code",
   "execution_count": 5,
   "metadata": {
    "scrolled": true
   },
   "outputs": [
    {
     "data": {
      "application/vnd.jupyter.widget-view+json": {
       "model_id": "4d994da77f6a46a688b47109770ba6f1",
       "version_major": 2,
       "version_minor": 0
      },
      "text/plain": [
       "Figure(layout=FigureLayout(height='420px'))"
      ]
     },
     "metadata": {},
     "output_type": "display_data"
    }
   ],
   "source": [
    "fig = gmaps.figure()\n",
    "heat_layer = gmaps.heatmap_layer(locations, weights=happiness, \n",
    "                                 dissipating=False, max_intensity=50,\n",
    "                                 point_radius = 3)\n",
    "happiness_layer = gmaps.symbol_layer(locations, fill_color='rgba(0, 150, 0, 0.4)',\n",
    "                                    stroke_color='rgba(0, 0, 150, 0.4)', scale=2,\n",
    "                                    info_box_content=[f\"Happiness Score: {score}\" for score in happiness])\n",
    "fig.add_layer(heat_layer)\n",
    "fig.add_layer(happiness_layer)\n",
    "fig"
   ]
  },
  {
   "cell_type": "code",
   "execution_count": 6,
   "metadata": {},
   "outputs": [],
   "source": [
    "from matplotlib.cm import jet\n",
    "from matplotlib.colors import to_hex"
   ]
  },
  {
   "cell_type": "code",
   "execution_count": 7,
   "metadata": {},
   "outputs": [],
   "source": [
    "from matplotlib.colors import LinearSegmentedColormap\n",
    "def grayscale_cmap(cmap):\n",
    "    \"\"\"Return a grayscale version of the given colormap\"\"\"\n",
    "    cmap = plt.cm.get_cmap(cmap)\n",
    "    colors = cmap(np.arange(cmap.N))\n",
    "    \n",
    "    # convert RGBA to perceived grayscale luminance\n",
    "    # cf. http://alienryderflex.com/hsp.html\n",
    "    RGB_weight = [0.299, 0.587, 0.114]\n",
    "    luminance = np.sqrt(np.dot(colors[:, :3] ** 2, RGB_weight))\n",
    "    colors[:, :3] = luminance[:, np.newaxis]\n",
    "    return LinearSegmentedColormap.from_list(cmap.name + \"_gray\", colors, cmap.N)\n",
    "    "
   ]
  },
  {
   "cell_type": "code",
   "execution_count": 9,
   "metadata": {},
   "outputs": [],
   "source": [
    "import gmaps\n",
    "import gmaps.geojson_geometries\n",
    "gmaps.configure(api_key=gkey)\n",
    "countries_geojson = gmaps.geojson_geometries.load_geometry(\"countries\")\n",
    "\n",
    "from matplotlib.cm import viridis\n",
    "from matplotlib.colors import to_hex\n",
    "\n",
    "# We will need to scale the GINI values to lie between 0 and 1\n",
    "min_gini = min(internet)\n",
    "max_gini = max(internet)\n",
    "gini_range = max_gini - min_gini\n",
    "\n",
    "def calculate_color(gini):\n",
    "    \"\"\"\n",
    "    Convert the GINI coefficient to a color\n",
    "    \"\"\"\n",
    "    # make gini a number between 0 and 1\n",
    "    normalized_gini = (gini - min_gini) / gini_range\n",
    "\n",
    "    # invert gini so that high inequality gives dark color\n",
    "    inverse_gini = 1.0 - normalized_gini\n",
    "\n",
    "    # transform the gini coefficient to a matplotlib color\n",
    "    mpl_color = jet(inverse_gini)\n",
    "\n",
    "    # transform from a matplotlib color to a valid CSS color\n",
    "    gmaps_color = to_hex(mpl_color, keep_alpha=False)\n",
    "\n",
    "    return gmaps_color\n",
    "\n",
    "def view_colormap(cmap):\n",
    "    \"\"\"Plot a colormap with its grayscale equivalent\"\"\"\n",
    "    cmap = plt.cm.get_cmap(cmap)\n",
    "    colors = cmap(np.arange(cmap.N))\n",
    "    #cmap = grayscale_cmap(cmap)\n",
    "    #grayscale = cmap(np.arange(cmap.N))\n",
    "    \n",
    "    fig, ax = plt.subplots(figsize=(12, 1))#,subplot_kw=dict(xticks=[], yticks=[]))\n",
    "    ax.imshow([colors], extent=[max_gini*10, min_gini*10, 0, 1])\n",
    "    #ax[1].imshow([grayscale], extent=[0, 10, 0, 1])"
   ]
  },
  {
   "cell_type": "code",
   "execution_count": 10,
   "metadata": {},
   "outputs": [],
   "source": [
    "internet_country = analysisdata_location[[\"Country\",\"Internet Access Rate\"]].set_index(\"Country\")\n",
    "colors = []\n",
    "for feature in countries_geojson['features']:\n",
    "    country_name = feature['properties']['name']\n",
    "    try:\n",
    "        gini = internet_country.loc[country_name,\"Internet Access Rate\"]\n",
    "        color = calculate_color(gini)\n",
    "    except KeyError:\n",
    "        # no GINI for that country: return default color\n",
    "        color = (0, 0, 0, 0.3)\n",
    "    colors.append(color)"
   ]
  },
  {
   "cell_type": "code",
   "execution_count": 11,
   "metadata": {},
   "outputs": [
    {
     "data": {
      "application/vnd.jupyter.widget-view+json": {
       "model_id": "28b5bd43e97c46c6b6509c3761d3cd92",
       "version_major": 2,
       "version_minor": 0
      },
      "text/plain": [
       "Figure(layout=FigureLayout(height='420px'))"
      ]
     },
     "metadata": {},
     "output_type": "display_data"
    },
    {
     "data": {
      "image/png": "[encoded data removed]",
      "text/plain": [
       "<Figure size 864x72 with 1 Axes>"
      ]
     },
     "metadata": {
      "needs_background": "light"
     },
     "output_type": "display_data"
    }
   ],
   "source": [
    "fig = gmaps.figure()\n",
    "gini_layer = gmaps.geojson_layer(\n",
    "countries_geojson,\n",
    "fill_color=colors,\n",
    "stroke_color=colors,\n",
    "fill_opacity=0.8)\n",
    "fig.add_layer(gini_layer)\n",
    "view_colormap(jet)\n",
    "fig\n"
   ]
  },
  {
   "cell_type": "code",
   "execution_count": null,
   "metadata": {},
   "outputs": [],
   "source": []
  }
 ],
 "metadata": {
  "kernelspec": {
   "display_name": "Python 3",
   "language": "python",
   "name": "python3"
  },
  "language_info": {
   "codemirror_mode": {
    "name": "ipython",
    "version": 3
   },
   "file_extension": ".py",
   "mimetype": "text/x-python",
   "name": "python",
   "nbconvert_exporter": "python",
   "pygments_lexer": "ipython3",
   "version": "3.7.3"
  }
 },
 "nbformat": 4,
 "nbformat_minor": 2
}
