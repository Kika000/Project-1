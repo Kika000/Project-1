{
 "cells": [
  {
   "cell_type": "code",
   "execution_count": 1,
   "metadata": {},
   "outputs": [],
   "source": [
    "import warnings\n",
    "warnings.filterwarnings('ignore')"
   ]
  },
  {
   "cell_type": "code",
   "execution_count": 2,
   "metadata": {},
   "outputs": [],
   "source": [
    "%matplotlib inline\n",
    "import pandas as pd"
   ]
  },
  {
   "cell_type": "code",
   "execution_count": 3,
   "metadata": {},
   "outputs": [],
   "source": [
    "Disaster_path = \"../Data/Disaster Ranking 2016.csv\"\n",
    "Internet_path = \"../Data/Number of Internet Users 2016.csv\"\n",
    "Sleep_path = \"../Data/Sleeping Hour 2016 OECD Countries.csv\"\n",
    "Happy2015_path = \"../Data/World Happiness 2015.csv\"\n",
    "Happy2016_path = \"../Data/World Happiness 2016.csv\"\n",
    "Happy2017_path = \"../Data/World Happiness 2017.csv\"\n",
    "Happy2018_path = \"../Data/World Happiness 2018.csv\"\n",
    "\n",
    "disaster = pd.read_csv(Disaster_path)\n",
    "internet = pd.read_csv(Internet_path)\n",
    "sleep = pd.read_csv(Sleep_path)\n",
    "happy2015 = pd.read_csv(Happy2015_path)\n",
    "happy2016 = pd.read_csv(Happy2016_path)\n",
    "happy2017 = pd.read_csv(Happy2017_path)\n",
    "happy2018 = pd.read_csv(Happy2018_path)\n",
    "happy1615 = pd.merge(happy2016,happy2015, on =\"Country\",how = \"inner\")\n",
    "happy1817 = pd.merge(happy2018,happy2017, on =\"Country\",how = \"inner\")\n",
    "happy8765 = pd.merge(happy1817,happy1615, on =\"Country\",how = \"inner\")\n",
    "happydata = happy8765[[\"Country\",\"Score\",\"Happiness.Score\",\"Happiness Score_x\",\"Happiness Score_y\"]]\n",
    "happydata.rename(columns={\"Score\":\"2018\",\"Happiness.Score\":\"2017\",\"Happiness Score_x\":\"2016\",\"Happiness Score_y\":\"2015\"},inplace=True)\n",
    "happydata = happydata.round(2)\n",
    "happydata.to_csv(\"../Clean data/Happinessclean.csv\")"
   ]
  },
  {
   "cell_type": "code",
   "execution_count": null,
   "metadata": {},
   "outputs": [],
   "source": []
  }
 ],
 "metadata": {
  "kernelspec": {
   "display_name": "Python 3",
   "language": "python",
   "name": "python3"
  },
  "language_info": {
   "codemirror_mode": {
    "name": "ipython",
    "version": 3
   },
   "file_extension": ".py",
   "mimetype": "text/x-python",
   "name": "python",
   "nbconvert_exporter": "python",
   "pygments_lexer": "ipython3",
   "version": "3.7.3"
  }
 },
 "nbformat": 4,
 "nbformat_minor": 2
}
