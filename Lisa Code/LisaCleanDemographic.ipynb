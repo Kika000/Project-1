{
 "cells": [
  {
   "cell_type": "code",
   "execution_count": 1,
   "metadata": {},
   "outputs": [],
   "source": [
    "%matplotlib inline\n",
    "import matplotlib.pyplot as plt\n",
    "import pandas as pd\n",
    "import numpy as np"
   ]
  },
  {
   "cell_type": "code",
   "execution_count": 3,
   "metadata": {},
   "outputs": [],
   "source": [
    "#load csv data in dataframe\n",
    "pull_GDP = \"../Data/GDP by Country 2016.csv\"\n",
    "pull_MedAge = \"../Data/Median Age 2016.csv\"\n",
    "pull_PPP = \"../Data/PPP by Country 2016.csv\"\n",
    "pull_PopDen = \"../Data/Population Density by Country 2016.csv\"\n",
    "pull_PopTot = \"../Data/Population Total by Country 2016.csv\"\n",
    "#pull_GDP = \"../Data/GDP by Country 2016.csv\"\n",
    "\n",
    "GDP_data = pd.read_csv(pull_GDP)\n",
    "MedAge_data = pd.read_csv(pull_MedAge, encoding= \"utf-8\")\n",
    "PPP_data = pd.read_csv(pull_PPP)\n",
    "PopDen_data = pd.read_csv(pull_PopDen)\n",
    "PopTot_data = pd.read_csv(pull_PopTot)\n"
   ]
  },
  {
   "cell_type": "code",
   "execution_count": 32,
   "metadata": {},
   "outputs": [
    {
     "data": {
      "text/plain": [
       "Country               264\n",
       "Population Density    260\n",
       "dtype: int64"
      ]
     },
     "execution_count": 32,
     "metadata": {},
     "output_type": "execute_result"
    }
   ],
   "source": [
    "#Look at counts for each variable\n",
    "GDP_data = GDP_data.rename(columns = {\"Country Name\": \"Country\"})\n",
    "GDPClean = GDP_data[[\"Country\",\"GDP (current US$)\"]]\n",
    "MedianAgeClean = MedAge_data[[\"Country\",\"Median Age\"]]\n",
    "PPP_data = PPP_data.rename(columns = {\"Country Name\": \"Country\",\"GDP, PPP (current international $)\": \"PPP\" })\n",
    "PPPClean = PPP_data[[\"Country\",\"PPP\"]]\n",
    "PopDen_data = PopDen_data.rename(columns= {\"Country Name\": \"Country\",\n",
    "                                           \"Population density (people per sq. km of land area)\": \"Population Density\" })\n",
    "PopulationDensityClean = PopDen_data[[\"Country\",\"Population Density\"]]\n",
    "PopTot_data = PopTot_data.rename(columns= {\"Country Name\": \"Country\", \"Population, total\": \"Population Total\" })\n",
    "PopulationTotalClean = PopTot_data[[\"Country\",\"Population Total\"]]\n",
    "PopulationDensityClean.count()"
   ]
  },
  {
   "cell_type": "code",
   "execution_count": 33,
   "metadata": {},
   "outputs": [],
   "source": [
    "#export clean data\n",
    "output_data_file = \"../Clean Data/GDPClean.csv\"\n",
    "GDPClean.to_csv(output_data_file, index=False)\n",
    "output_data_file = \"../Clean Data/PPPClean.csv\"\n",
    "PPPClean.to_csv(output_data_file, index=False)\n",
    "output_data_file = \"../Clean Data/MedianAgeClean.csv\"\n",
    "MedianAgeClean.to_csv(output_data_file, index=False)\n",
    "output_data_file = \"../Clean Data/PopulationTotalClean.csv\"\n",
    "PopulationTotalClean.to_csv(output_data_file, index=False)\n",
    "output_data_file = \"../Clean Data/PopulationDensityClean.csv\"\n",
    "PopulationDensityClean.to_csv(output_data_file, index=False)"
   ]
  },
  {
   "cell_type": "code",
   "execution_count": null,
   "metadata": {},
   "outputs": [],
   "source": []
  }
 ],
 "metadata": {
  "kernelspec": {
   "display_name": "Python 3",
   "language": "python",
   "name": "python3"
  },
  "language_info": {
   "codemirror_mode": {
    "name": "ipython",
    "version": 3
   },
   "file_extension": ".py",
   "mimetype": "text/x-python",
   "name": "python",
   "nbconvert_exporter": "python",
   "pygments_lexer": "ipython3",
   "version": "3.7.3"
  }
 },
 "nbformat": 4,
 "nbformat_minor": 2
}
