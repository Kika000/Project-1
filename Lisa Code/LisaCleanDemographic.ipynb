{
 "cells": [
  {
   "cell_type": "code",
   "execution_count": 35,
   "metadata": {},
   "outputs": [],
   "source": [
    "%matplotlib inline\n",
    "import matplotlib.pyplot as plt\n",
    "import pandas as pd\n",
    "import numpy as np"
   ]
  },
  {
   "cell_type": "code",
   "execution_count": 43,
   "metadata": {},
   "outputs": [],
   "source": [
    "#load csv data in dataframe\n",
    "pull_LatLng = \"../Data/Country LatLng.csv\"\n",
    "\n",
    "LatLng_data = pd.read_csv(pull_LatLng)\n",
    "CoordinatesClean = LatLng_data.dropna()\n",
    "output_data_file = \"../Clean Data/CoordinatesClean.csv\"\n",
    "CoordinatesClean.to_csv(output_data_file, index=False)"
   ]
  },
  {
   "cell_type": "code",
   "execution_count": 42,
   "metadata": {},
   "outputs": [
    {
     "data": {
      "text/plain": [
       "Country      244\n",
       "Latitude     244\n",
       "Longitude    244\n",
       "dtype: int64"
      ]
     },
     "execution_count": 42,
     "metadata": {},
     "output_type": "execute_result"
    }
   ],
   "source": [
    "CoordinatesClean.count()"
   ]
  },
  {
   "cell_type": "code",
   "execution_count": 32,
   "metadata": {},
   "outputs": [
    {
     "data": {
      "text/plain": [
       "Country               264\n",
       "Population Density    260\n",
       "dtype: int64"
      ]
     },
     "execution_count": 32,
     "metadata": {},
     "output_type": "execute_result"
    }
   ],
   "source": [
    "#Look at counts for each variable\n",
    "\n",
    "PopulationDensityClean.count()"
   ]
  },
  {
   "cell_type": "code",
   "execution_count": 33,
   "metadata": {},
   "outputs": [],
   "source": [
    "#export clean data\n",
    "output_data_file = \"../Clean Data/GDPClean.csv\"\n",
    "GDPClean.to_csv(output_data_file, index=False)\n",
    "output_data_file = \"../Clean Data/PPPClean.csv\"\n",
    "PPPClean.to_csv(output_data_file, index=False)\n",
    "output_data_file = \"../Clean Data/MedianAgeClean.csv\"\n",
    "MedianAgeClean.to_csv(output_data_file, index=False)\n",
    "output_data_file = \"../Clean Data/PopulationTotalClean.csv\"\n",
    "PopulationTotalClean.to_csv(output_data_file, index=False)\n",
    "output_data_file = \"../Clean Data/PopulationDensityClean.csv\"\n",
    "PopulationDensityClean.to_csv(output_data_file, index=False)"
   ]
  },
  {
   "cell_type": "code",
   "execution_count": null,
   "metadata": {},
   "outputs": [],
   "source": []
  }
 ],
 "metadata": {
  "kernelspec": {
   "display_name": "Python 3",
   "language": "python",
   "name": "python3"
  },
  "language_info": {
   "codemirror_mode": {
    "name": "ipython",
    "version": 3
   },
   "file_extension": ".py",
   "mimetype": "text/x-python",
   "name": "python",
   "nbconvert_exporter": "python",
   "pygments_lexer": "ipython3",
   "version": "3.7.3"
  }
 },
 "nbformat": 4,
 "nbformat_minor": 2
}
