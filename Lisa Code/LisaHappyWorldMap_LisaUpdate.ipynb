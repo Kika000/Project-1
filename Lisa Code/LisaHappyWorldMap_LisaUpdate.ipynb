{
 "cells": [
  {
   "cell_type": "code",
   "execution_count": 7,
   "metadata": {},
   "outputs": [],
   "source": [
    "%matplotlib inline\n",
    "import matplotlib.pyplot as plt\n",
    "import pandas as pd\n",
    "import numpy as np\n",
    "import seaborn as sns\n",
    "import gmaps\n",
    "import gmaps.geojson_geometries\n",
    "from matplotlib.cm import viridis\n",
    "from matplotlib.cm import RdBu\n",
    "from matplotlib.cm import jet\n",
    "from matplotlib.colors import to_hex\n",
    "from config import gkey"
   ]
  },
  {
   "cell_type": "code",
   "execution_count": 8,
   "metadata": {},
   "outputs": [],
   "source": [
    "#load csv data in dataframe\n",
    "\n",
    "pull_happy = \"../Data/World Happiness 2016.csv\"\n",
    "#pull_region = \"../Data/Country Region.csv\"\n",
    "#pull_coord = \"../Clean Data/CoordinatesClean.csv\"\n",
    "\n",
    "happy = pd.read_csv(pull_happy)\n",
    "#Region = pd.read_csv(pull_region)\n",
    "#Coord = pd.read_csv(pull_coord)"
   ]
  },
  {
   "cell_type": "code",
   "execution_count": 3,
   "metadata": {},
   "outputs": [],
   "source": [
    "\n",
    "C_rename4 = {\"Bolivia (Plurinational State of)\":\"Bolivia\",\"Iran (Islamic Republic of)\":\"Iran\",\"Cote d'Ivoire\":\"Ivory Coast\",\n",
    "\"China, Hong Kong SAR\":\"Hong Kong\",\"Lao People's Democratic Republic\":\"Laos\",\"Syrian Arab Republic\":\"Syria\",\n",
    "\"The former Yugoslav Republic of Macedonia\":\"Macedonia\",\"Russian Federation\":\"Russia\",\n",
    "\"Republic of Korea\":\"South Korea\",\"Republic of Moldova\":\"Moldova\",\"United Kingdom of Great Britain\":\"United Kingdom\",\n",
    "\"United Republic of Tanzania\":\"Tanzania\",\"United States of America\":\"United States\",\"Viet Nam\":\"Vietnam\",\n",
    "\"Venezuela (Bolivarian Republic of)\":\"Venezuela\"}\n",
    "Region2 = Region.replace(C_rename4)\n",
    "happy_region = pd.merge(happy, Region2, how = \"left\")\n",
    "happy_region.count()\n",
    "output_data_file = \"Happy_Region.csv\"\n",
    "happy_region.to_csv(output_data_file, index=False)\n"
   ]
  },
  {
   "cell_type": "code",
   "execution_count": 4,
   "metadata": {},
   "outputs": [
    {
     "data": {
      "text/plain": [
       "Country            154\n",
       "Happiness Rank     154\n",
       "Happiness Score    154\n",
       "Region             154\n",
       "Continent          154\n",
       "Latitude           154\n",
       "Longitude          154\n",
       "dtype: int64"
      ]
     },
     "execution_count": 4,
     "metadata": {},
     "output_type": "execute_result"
    }
   ],
   "source": [
    "\n",
    "C_rename3 = {\"Congo [Republic]\":\"Congo (Brazzaville)\",\"Congo [DRC]\":\"Congo (Kinshasa)\",\"Cote d'Ivoire\":\"Ivory Coast\",\n",
    "\"Macedonia [FYROM]\":\"Macedonia\",\"Myanmar [Burma]\":\"Myanmar\"}\n",
    "Coord2 = Coord.replace(C_rename3)\n",
    "happy_region_coord = pd.merge(happy_region, Coord2, how = \"inner\")\n",
    "\n",
    "output_data_file = \"Happy_Region_Coord.csv\"\n",
    "happy_region_coord.to_csv(output_data_file, index=False)\n",
    "happy_region_coord.count()\n"
   ]
  },
  {
   "cell_type": "code",
   "execution_count": 9,
   "metadata": {},
   "outputs": [
    {
     "data": {
      "application/vnd.jupyter.widget-view+json": {
       "model_id": "1b2a7d5f61d841e5aad4e2ee5fd624a3",
       "version_major": 2,
       "version_minor": 0
      },
      "text/plain": [
       "Figure(layout=FigureLayout(height='420px'))"
      ]
     },
     "metadata": {},
     "output_type": "display_data"
    }
   ],
   "source": [
    "\n",
    "gmaps.configure(api_key=gkey)\n",
    "\n",
    "countries_geojson = gmaps.geojson_geometries.load_geometry('countries')\n",
    "\n",
    "fig = gmaps.figure()\n",
    "\n",
    "gini_layer = gmaps.geojson_layer(countries_geojson)\n",
    "fig.add_layer(gini_layer)\n",
    "fig"
   ]
  },
  {
   "cell_type": "code",
   "execution_count": 10,
   "metadata": {},
   "outputs": [],
   "source": [
    "\n",
    "# We will need to scale the happiness score values to lie between 0 and 1\n",
    "min_hap = min(happy[\"Happiness Score\"])\n",
    "max_hap = max(happy[\"Happiness Score\"])\n",
    "hap_range = max_hap - min_hap\n",
    "\n",
    "def calculate_color(hap):\n",
    "    \"\"\"\n",
    "    Convert the Happiness Score to a color\n",
    "    \"\"\"\n",
    "    # make happiness score a number between 0 and 1\n",
    "    normalized_hap = (hap - min_hap) / hap_range\n",
    "\n",
    "    # invert happiness score so that high inequality gives dark color\n",
    "    inverse_hap = 1.0 - normalized_hap\n",
    "\n",
    "    # transform the happiness score to a matplotlib color\n",
    "    mpl_color = jet(inverse_hap)\n",
    "    # transform from a matplotlib color to a valid CSS color\n",
    "    gmaps_color = to_hex(mpl_color, keep_alpha=False)\n",
    "\n",
    "    return gmaps_color"
   ]
  },
  {
   "cell_type": "code",
   "execution_count": 14,
   "metadata": {},
   "outputs": [
    {
     "data": {
      "text/plain": [
       "Country            157\n",
       "Happiness Rank     157\n",
       "Happiness Score    157\n",
       "Check              157\n",
       "dtype: int64"
      ]
     },
     "execution_count": 14,
     "metadata": {},
     "output_type": "execute_result"
    }
   ],
   "source": [
    "country_list = []\n",
    "for feature in countries_geojson['features']:\n",
    "    country_name = feature['properties']['name']\n",
    "    country_list.append(country_name)\n",
    "\n",
    "country_list_df = pd.DataFrame(country_list, columns = [\"Country\"])\n",
    "check = [1 for c in country_list_df[\"Country\"]]\n",
    "country_list_df[\"Check\"] = check\n",
    "#country_list_df.rename(columns = (\"Country\"))\n",
    "country_list_df.head()\n",
    "happy_to_merge = happy.replace({\"United States\":\"United States of America\",\"Hong Kong\":\"Hong Kong S.A.R.\",\n",
    "                                \"Somaliland Region\":\"Somaliland\",\"Congo (Kinshasa)\":\"Democratic Republic of the Congo\",\n",
    "                                \"Congo (Brazzaville)\":\"Republic of Congo\",\"Palestinian Territories\":\"Palestine\",\n",
    "                                \"Tanzania\":\"United Republic of Tanzania\",\"Serbia\":\"Republic of Serbia\",\n",
    "                                \"North Cyprus\":\"Northern Cyprus\"})\n",
    "\n",
    "gmap_country = pd.merge(happy_to_merge, country_list_df, on = \"Country\", how = \"left\")\n",
    "output_data_file = \"Happy_gmap.csv\"\n",
    "gmap_country.to_csv(output_data_file, index=False)\n",
    "gmap_country.count()"
   ]
  },
  {
   "cell_type": "code",
   "execution_count": 15,
   "metadata": {},
   "outputs": [],
   "source": [
    "gmap_country_score = gmap_country.set_index(\"Country\")\n",
    "colors = []\n",
    "country_list = []\n",
    "for feature in countries_geojson['features']:\n",
    "    country_name = feature['properties']['name']\n",
    "    try:\n",
    "#       hap = happy_region_coord.loc[country, \"Happiness Score\"]\n",
    "        hap = gmap_country_score.loc[country_name, \"Happiness Score\"]\n",
    "        color = calculate_color(hap)\n",
    "    except KeyError:\n",
    "        # no happiness for that country: return default color\n",
    "        color = (0, 0, 0, 0.3)\n",
    "    colors.append(color)\n",
    "    country_list.append(country_name)"
   ]
  },
  {
   "cell_type": "code",
   "execution_count": 16,
   "metadata": {},
   "outputs": [
    {
     "data": {
      "text/plain": [
       "7.526"
      ]
     },
     "execution_count": 16,
     "metadata": {},
     "output_type": "execute_result"
    }
   ],
   "source": [
    "gmap_country_score[\"Happiness Score\"].max()\n"
   ]
  },
  {
   "cell_type": "code",
<<<<<<< HEAD
   "execution_count": 1,
   "metadata": {},
   "outputs": [
    {
     "ename": "NameError",
     "evalue": "name 'gmaps' is not defined",
     "output_type": "error",
     "traceback": [
      "\u001b[1;31m---------------------------------------------------------------------------\u001b[0m",
      "\u001b[1;31mNameError\u001b[0m                                 Traceback (most recent call last)",
      "\u001b[1;32m<ipython-input-1-579cf8cb135f>\u001b[0m in \u001b[0;36m<module>\u001b[1;34m\u001b[0m\n\u001b[1;32m----> 1\u001b[1;33m \u001b[0mfig\u001b[0m \u001b[1;33m=\u001b[0m \u001b[0mgmaps\u001b[0m\u001b[1;33m.\u001b[0m\u001b[0mfigure\u001b[0m\u001b[1;33m(\u001b[0m\u001b[1;33m)\u001b[0m\u001b[1;33m\u001b[0m\u001b[1;33m\u001b[0m\u001b[0m\n\u001b[0m\u001b[0;32m      2\u001b[0m happy_layer = gmaps.geojson_layer(\n\u001b[0;32m      3\u001b[0m     \u001b[0mcountries_geojson\u001b[0m\u001b[1;33m,\u001b[0m\u001b[1;33m\u001b[0m\u001b[1;33m\u001b[0m\u001b[0m\n\u001b[0;32m      4\u001b[0m     \u001b[0mfill_color\u001b[0m\u001b[1;33m=\u001b[0m\u001b[0mcolors\u001b[0m\u001b[1;33m,\u001b[0m\u001b[1;33m\u001b[0m\u001b[1;33m\u001b[0m\u001b[0m\n\u001b[0;32m      5\u001b[0m     \u001b[0mstroke_color\u001b[0m\u001b[1;33m=\u001b[0m\u001b[0mcolors\u001b[0m\u001b[1;33m,\u001b[0m\u001b[1;33m\u001b[0m\u001b[1;33m\u001b[0m\u001b[0m\n",
      "\u001b[1;31mNameError\u001b[0m: name 'gmaps' is not defined"
=======
   "execution_count": 21,
   "metadata": {},
   "outputs": [
    {
     "ename": "AttributeError",
     "evalue": "'Figure' object has no attribute 'savefig'",
     "output_type": "error",
     "traceback": [
      "\u001b[1;31m---------------------------------------------------------------------------\u001b[0m",
      "\u001b[1;31mAttributeError\u001b[0m                            Traceback (most recent call last)",
      "\u001b[1;32m<ipython-input-21-25e6c062ae62>\u001b[0m in \u001b[0;36m<module>\u001b[1;34m\u001b[0m\n\u001b[0;32m      9\u001b[0m \u001b[1;31m#plt.colorbar()\u001b[0m\u001b[1;33m\u001b[0m\u001b[1;33m\u001b[0m\u001b[1;33m\u001b[0m\u001b[0m\n\u001b[0;32m     10\u001b[0m \u001b[0mfig\u001b[0m\u001b[1;33m\u001b[0m\u001b[1;33m\u001b[0m\u001b[0m\n\u001b[1;32m---> 11\u001b[1;33m \u001b[0mfig\u001b[0m\u001b[1;33m.\u001b[0m\u001b[0msavefig\u001b[0m\u001b[1;33m(\u001b[0m\u001b[1;34m\"../ChartsTables/worldMapHappiness.csv\"\u001b[0m\u001b[1;33m)\u001b[0m\u001b[1;33m\u001b[0m\u001b[1;33m\u001b[0m\u001b[0m\n\u001b[0m",
      "\u001b[1;31mAttributeError\u001b[0m: 'Figure' object has no attribute 'savefig'"
>>>>>>> e88b5472ae469fdd1cba75e66628fdf9a0fee017
     ]
    }
   ],
   "source": [
    "fig = gmaps.figure()\n",
    "happy_layer = gmaps.geojson_layer(\n",
    "    countries_geojson,\n",
    "    fill_color=colors,\n",
    "    stroke_color=colors,\n",
    "    fill_opacity=0.8)\n",
    "    #colorbar=dict(nticks=8, tickmode='array',tickvals=[2, 4, 6, 8]))\n",
    "fig.add_layer(happy_layer)\n",
    "#plt.colorbar()\n",
    "fig\n",
    "fig.savefig(\"../ChartsTables/worldMapHappiness.csv\")"
   ]
  },
  {
   "cell_type": "code",
   "execution_count": 18,
   "metadata": {},
   "outputs": [],
   "source": [
    "from matplotlib.colors import LinearSegmentedColormap\n",
    "\n",
    "def grayscale_cmap(cmap):\n",
    "    \"\"\"Return a grayscale version of the given colormap\"\"\"\n",
    "    cmap = plt.cm.get_cmap(cmap)\n",
    "    colors = cmap(np.arange(cmap.N))\n",
    "    \n",
    "    # convert RGBA to perceived grayscale luminance\n",
    "    # cf. http://alienryderflex.com/hsp.html\n",
    "    RGB_weight = [0.299, 0.587, 0.114]\n",
    "    luminance = np.sqrt(np.dot(colors[:, :3] ** 2, RGB_weight))\n",
    "    colors[:, :3] = luminance[:, np.newaxis]\n",
    "        \n",
    "    return LinearSegmentedColormap.from_list(cmap.name + \"_gray\", colors, cmap.N)\n",
    "    \n",
    "\n",
    "def view_colormap(cmap):\n",
    "    \"\"\"Plot a colormap with its grayscale equivalent\"\"\"\n",
    "    cmap = plt.cm.get_cmap(cmap)\n",
    "    colors = cmap(np.arange(cmap.N))\n",
    "    \n",
    "    cmap = grayscale_cmap(cmap)\n",
    "    grayscale = cmap(np.arange(cmap.N))\n",
    "    \n",
    "    fig, ax = plt.subplots(2, figsize=(6, 2),\n",
    "                           subplot_kw=dict(xticks=[], yticks=[]))\n",
    "    ax[0].imshow([colors], extent=[0, 10, 0, 1])\n",
    "    ax[1].imshow([grayscale], extent=[0, 10, 0, 1])"
   ]
  },
  {
   "cell_type": "code",
   "execution_count": 135,
   "metadata": {},
   "outputs": [
    {
     "data": {
      "image/png": "iVBORw0KGgoAAAANSUhEUgAAAWQAAAByCAYAAABk46sSAAAABHNCSVQICAgIfAhkiAAAAAlwSFlzAAALEgAACxIB0t1+/AAAADl0RVh0U29mdHdhcmUAbWF0cGxvdGxpYiB2ZXJzaW9uIDMuMC4zLCBodHRwOi8vbWF0cGxvdGxpYi5vcmcvnQurowAABIJJREFUeJzt3LGSm0gQBuBGoOSiu2BjJ/t09xb3XH6ajRzY2YYLzAWIXYwBwUoqd7m+r0oleqZnGEn2L5cCV6WUAOD3O/3uAwAwEMgASQhkgCQEMkASAhkgCYEMkIRABkhCIAMkIZABkhDIAEk0R5qr6q8S8c9YTR7zejo2f15bs1TvXbN24B3bzq/XXsramkfsubRmqfemc5TJeImqKsNYRFRVXOpxSRl64td6uI4d9XA9r+f7Hu2/1zluPffxc330DdcRVSnjRxDx8XFETJ+n/9NB2RhbW7fn+Zb7bJ1z732O7Lkw9r6kfDz2vrQ99drL2FrzLeJHKeUprjgUyBF/R8S/k6XnyRbnK2NL9d49tvZsYjGUm8mS5ob6Hns8Ys+b9igRTRvRdBERcWq6qJsu6qYdWt7rYb6uu6ijjSYudXSXx/LYcJvufexjfu8eY92+77O9x9Z99+8x79/eY989p2N1dOvvV9dF3XZRt/0wf/l4qjbi0hLRXa7X6nYyNq/39KzVt6zZ2mOtZ6teeu2TntJGtJf6rY1o2+E5Yhh/i+Exbvk2eZ6PxcL8Vv/WHv9FvMQOfrIASEIgAyQhkAGSEMgASQhkgCQEMkASAhkgCYEMkIRABkhCIAMkIZABkhDIAEkIZIAkBDJAEgIZIAmBDJCEQAZIQiADJCGQAZIQyABJCGSAJAQyQBICGSAJgQyQhEAGSEIgAyQhkAGSEMgASQhkgCQEMkASAhkgiaqUsr+5qr5HxMvjjgPwR/pSSnm61nQokAF4HD9ZACQhkAGSEMgASQhkgCQEMkASAhkgCYEMkIRABkhCIAMkIZABkhDIAEkIZIAkBDJAEgIZIAmBDJCEQAZIQiADJCGQAZIQyABJCGSAJAQyQBICGSAJgQyQhEAGSKI51Nw05Xw+R0REVVU/zU3r+dza+C17rM0fsbXHkbNu1Vuv6VrP1vx87B57bM1/RillV989Pst7779nzbWeo/NL79d0bLye9y313GPNtT2Orv/M2JH5pb5r79/W2NH5rZ7X19cfpZSna2c/FMjn8zmen58jIuJ0OkVVVXE6Df/IHq/XxsY18/oze0znx+drtgJnDLRpPd5n677zenys1XVdr44t1eN1Xde/zM/HjtbzPbbqpWDZ85fjXoG85wt+75f7kS+ja19613rnPUv7j/X4F3p8z/q+j1JK9H0ffd+/j/V9H13X/VTP55fqPT1L9fQM87HpWef10mtZG1t6/UsBtxZ68z9n4/vTdV10Xfd+7vF6+v4tja31HNljvubr168vsYOfLACSEMgASQhkgCQEMkASAhkgCYEMkIRABkhCIAMkIZABkhDIAEkIZIAkBDJAEgIZIAmBDJCEQAZIQiADJCGQAZIQyABJCGSAJAQyQBICGSAJgQyQhEAGSEIgAyQhkAGSEMgASQhkgCQEMkASAhkgCYEMkIRABkiiKqXsb66q7xHx8rjjAPyRvpRSnq41HQpkAB7HTxYASQhkgCQEMkASAhkgCYEMkIRABkhCIAMkIZABkhDIAEn8D7D506a6PMb8AAAAAElFTkSuQmCC\n",
      "text/plain": [
       "<Figure size 432x144 with 2 Axes>"
      ]
     },
     "metadata": {},
     "output_type": "display_data"
    }
   ],
   "source": [
    "view_colormap(jet)\n",
    "plt.savefig(\"colorbar.png\")"
   ]
  },
  {
   "cell_type": "code",
   "execution_count": null,
   "metadata": {},
   "outputs": [],
   "source": []
  }
 ],
 "metadata": {
  "kernelspec": {
   "display_name": "Python 3",
   "language": "python",
   "name": "python3"
  },
  "language_info": {
   "codemirror_mode": {
    "name": "ipython",
    "version": 3
   },
   "file_extension": ".py",
   "mimetype": "text/x-python",
   "name": "python",
   "nbconvert_exporter": "python",
   "pygments_lexer": "ipython3",
   "version": "3.7.3"
  }
 },
 "nbformat": 4,
 "nbformat_minor": 2
}
