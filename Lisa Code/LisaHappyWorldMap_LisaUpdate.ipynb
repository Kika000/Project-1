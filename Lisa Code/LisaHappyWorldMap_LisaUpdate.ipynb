{
 "cells": [
  {
   "cell_type": "code",
   "execution_count": 65,
   "metadata": {},
   "outputs": [],
   "source": [
    "%matplotlib inline\n",
    "import matplotlib.pyplot as plt\n",
    "import pandas as pd\n",
    "import numpy as np\n",
    "import seaborn as sns\n",
    "import gmaps\n",
    "import gmaps.geojson_geometries\n",
    "from matplotlib.cm import viridis\n",
    "from matplotlib.cm import RdBu\n",
    "from matplotlib.cm import jet\n",
    "from matplotlib.colors import to_hex\n",
    "from config import gkey"
   ]
  },
  {
   "cell_type": "code",
   "execution_count": 66,
   "metadata": {},
   "outputs": [],
   "source": [
    "#load csv data in dataframe\n",
    "\n",
    "pull_happy = \"../Data/World Happiness 2016.csv\"\n",
    "#pull_region = \"../Data/Country Region.csv\"\n",
    "#pull_coord = \"../Clean Data/CoordinatesClean.csv\"\n",
    "\n",
    "happy = pd.read_csv(pull_happy)\n",
    "#Region = pd.read_csv(pull_region)\n",
    "#Coord = pd.read_csv(pull_coord)"
   ]
  },
  {
   "cell_type": "code",
   "execution_count": 67,
   "metadata": {},
   "outputs": [],
   "source": [
    "\n",
    "C_rename4 = {\"Bolivia (Plurinational State of)\":\"Bolivia\",\"Iran (Islamic Republic of)\":\"Iran\",\"Cote d'Ivoire\":\"Ivory Coast\",\n",
    "\"China, Hong Kong SAR\":\"Hong Kong\",\"Lao People's Democratic Republic\":\"Laos\",\"Syrian Arab Republic\":\"Syria\",\n",
    "\"The former Yugoslav Republic of Macedonia\":\"Macedonia\",\"Russian Federation\":\"Russia\",\n",
    "\"Republic of Korea\":\"South Korea\",\"Republic of Moldova\":\"Moldova\",\"United Kingdom of Great Britain\":\"United Kingdom\",\n",
    "\"United Republic of Tanzania\":\"Tanzania\",\"United States of America\":\"United States\",\"Viet Nam\":\"Vietnam\",\n",
    "\"Venezuela (Bolivarian Republic of)\":\"Venezuela\"}\n",
    "Region2 = Region.replace(C_rename4)\n",
    "happy_region = pd.merge(happy, Region2, how = \"left\")\n",
    "happy_region.count()\n",
    "output_data_file = \"Happy_Region.csv\"\n",
    "happy_region.to_csv(output_data_file, index=False)\n"
   ]
  },
  {
   "cell_type": "code",
   "execution_count": 68,
   "metadata": {},
   "outputs": [
    {
     "ename": "NameError",
     "evalue": "name 'Coord' is not defined",
     "output_type": "error",
     "traceback": [
      "\u001b[1;31m---------------------------------------------------------------------------\u001b[0m",
      "\u001b[1;31mNameError\u001b[0m                                 Traceback (most recent call last)",
      "\u001b[1;32m<ipython-input-68-058cc61c2a20>\u001b[0m in \u001b[0;36m<module>\u001b[1;34m\u001b[0m\n\u001b[0;32m      2\u001b[0m C_rename3 = {\"Congo [Republic]\":\"Congo (Brazzaville)\",\"Congo [DRC]\":\"Congo (Kinshasa)\",\"Cote d'Ivoire\":\"Ivory Coast\",\n\u001b[0;32m      3\u001b[0m \"Macedonia [FYROM]\":\"Macedonia\",\"Myanmar [Burma]\":\"Myanmar\"}\n\u001b[1;32m----> 4\u001b[1;33m \u001b[0mCoord2\u001b[0m \u001b[1;33m=\u001b[0m \u001b[0mCoord\u001b[0m\u001b[1;33m.\u001b[0m\u001b[0mreplace\u001b[0m\u001b[1;33m(\u001b[0m\u001b[0mC_rename3\u001b[0m\u001b[1;33m)\u001b[0m\u001b[1;33m\u001b[0m\u001b[1;33m\u001b[0m\u001b[0m\n\u001b[0m\u001b[0;32m      5\u001b[0m \u001b[0mhappy_region_coord\u001b[0m \u001b[1;33m=\u001b[0m \u001b[0mpd\u001b[0m\u001b[1;33m.\u001b[0m\u001b[0mmerge\u001b[0m\u001b[1;33m(\u001b[0m\u001b[0mhappy_region\u001b[0m\u001b[1;33m,\u001b[0m \u001b[0mCoord2\u001b[0m\u001b[1;33m,\u001b[0m \u001b[0mhow\u001b[0m \u001b[1;33m=\u001b[0m \u001b[1;34m\"inner\"\u001b[0m\u001b[1;33m)\u001b[0m\u001b[1;33m\u001b[0m\u001b[1;33m\u001b[0m\u001b[0m\n\u001b[0;32m      6\u001b[0m \u001b[1;33m\u001b[0m\u001b[0m\n",
      "\u001b[1;31mNameError\u001b[0m: name 'Coord' is not defined"
     ]
    }
   ],
   "source": [
    "\n",
    "C_rename3 = {\"Congo [Republic]\":\"Congo (Brazzaville)\",\"Congo [DRC]\":\"Congo (Kinshasa)\",\"Cote d'Ivoire\":\"Ivory Coast\",\n",
    "\"Macedonia [FYROM]\":\"Macedonia\",\"Myanmar [Burma]\":\"Myanmar\"}\n",
    "Coord2 = Coord.replace(C_rename3)\n",
    "happy_region_coord = pd.merge(happy_region, Coord2, how = \"inner\")\n",
    "\n",
    "output_data_file = \"Happy_Region_Coord.csv\"\n",
    "happy_region_coord.to_csv(output_data_file, index=False)\n",
    "happy_region_coord.count()\n"
   ]
  },
  {
   "cell_type": "code",
   "execution_count": 69,
   "metadata": {},
   "outputs": [
    {
     "data": {
      "application/vnd.jupyter.widget-view+json": {
       "model_id": "0a17113ef14944a79dad8187c0a88400",
       "version_major": 2,
       "version_minor": 0
      },
      "text/plain": [
       "Figure(layout=FigureLayout(height='420px'))"
      ]
     },
     "metadata": {},
     "output_type": "display_data"
    }
   ],
   "source": [
    "\n",
    "gmaps.configure(api_key=gkey)\n",
    "\n",
    "countries_geojson = gmaps.geojson_geometries.load_geometry('countries')\n",
    "\n",
    "fig = gmaps.figure()\n",
    "\n",
    "gini_layer = gmaps.geojson_layer(countries_geojson)\n",
    "fig.add_layer(gini_layer)\n",
    "fig"
   ]
  },
  {
   "cell_type": "code",
   "execution_count": 70,
   "metadata": {},
   "outputs": [],
   "source": [
    "\n",
    "# We will need to scale the happiness score values to lie between 0 and 1\n",
    "min_hap = min(happy[\"Happiness Score\"])\n",
    "max_hap = max(happy[\"Happiness Score\"])\n",
    "hap_range = max_hap - min_hap\n",
    "\n",
    "def calculate_color(hap):\n",
    "    \"\"\"\n",
    "    Convert the Happiness Score to a color\n",
    "    \"\"\"\n",
    "    # make happiness score a number between 0 and 1\n",
    "    normalized_hap = (hap - min_hap) / hap_range\n",
    "\n",
    "    # invert happiness score so that high inequality gives dark color\n",
    "    inverse_hap = 1.0 - normalized_hap\n",
    "\n",
    "    # transform the happiness score to a matplotlib color\n",
    "    mpl_color = jet(inverse_hap)\n",
    "    # transform from a matplotlib color to a valid CSS color\n",
    "    gmaps_color = to_hex(mpl_color, keep_alpha=False)\n",
    "\n",
    "    return gmaps_color"
   ]
  },
  {
   "cell_type": "code",
   "execution_count": 71,
   "metadata": {},
   "outputs": [
    {
     "data": {
      "text/plain": [
       "Country            157\n",
       "Happiness Rank     157\n",
       "Happiness Score    157\n",
       "Check              157\n",
       "dtype: int64"
      ]
     },
     "execution_count": 71,
     "metadata": {},
     "output_type": "execute_result"
    }
   ],
   "source": [
    "country_list = []\n",
    "for feature in countries_geojson['features']:\n",
    "    country_name = feature['properties']['name']\n",
    "    country_list.append(country_name)\n",
    "\n",
    "country_list_df = pd.DataFrame(country_list, columns = [\"Country\"])\n",
    "check = [1 for c in country_list_df[\"Country\"]]\n",
    "country_list_df[\"Check\"] = check\n",
    "#country_list_df.rename(columns = (\"Country\"))\n",
    "country_list_df.head()\n",
    "happy_to_merge = happy.replace({\"United States\":\"United States of America\",\"Hong Kong\":\"Hong Kong S.A.R.\",\n",
    "                                \"Somaliland Region\":\"Somaliland\",\"Congo (Kinshasa)\":\"Democratic Republic of the Congo\",\n",
    "                                \"Congo (Brazzaville)\":\"Republic of Congo\",\"Palestinian Territories\":\"Palestine\",\n",
    "                                \"Tanzania\":\"United Republic of Tanzania\",\"Serbia\":\"Republic of Serbia\",\n",
    "                                \"North Cyprus\":\"Northern Cyprus\"})\n",
    "\n",
    "gmap_country = pd.merge(happy_to_merge, country_list_df, on = \"Country\", how = \"left\")\n",
    "output_data_file = \"Happy_gmap.csv\"\n",
    "gmap_country.to_csv(output_data_file, index=False)\n",
    "gmap_country.count()"
   ]
  },
  {
   "cell_type": "code",
   "execution_count": 72,
   "metadata": {},
   "outputs": [],
   "source": [
    "gmap_country_score = gmap_country.set_index(\"Country\")\n",
    "colors = []\n",
    "country_list = []\n",
    "for feature in countries_geojson['features']:\n",
    "    country_name = feature['properties']['name']\n",
    "    try:\n",
    "#       hap = happy_region_coord.loc[country, \"Happiness Score\"]\n",
    "        hap = gmap_country_score.loc[country_name, \"Happiness Score\"]\n",
    "        color = calculate_color(hap)\n",
    "    except KeyError:\n",
    "        # no happiness for that country: return default color\n",
    "        color = (0, 0, 0, 0.3)\n",
    "    colors.append(color)\n",
    "    country_list.append(country_name)"
   ]
  },
  {
   "cell_type": "code",
   "execution_count": 73,
   "metadata": {},
   "outputs": [
    {
     "data": {
      "text/plain": [
       "7.526"
      ]
     },
     "execution_count": 73,
     "metadata": {},
     "output_type": "execute_result"
    }
   ],
   "source": [
    "gmap_country_score[\"Happiness Score\"].max()\n"
   ]
  },
  {
   "cell_type": "code",
<<<<<<< HEAD
<<<<<<< HEAD
   "execution_count": 1,
   "metadata": {},
   "outputs": [
    {
     "ename": "NameError",
     "evalue": "name 'gmaps' is not defined",
     "output_type": "error",
     "traceback": [
      "\u001b[1;31m---------------------------------------------------------------------------\u001b[0m",
      "\u001b[1;31mNameError\u001b[0m                                 Traceback (most recent call last)",
      "\u001b[1;32m<ipython-input-1-579cf8cb135f>\u001b[0m in \u001b[0;36m<module>\u001b[1;34m\u001b[0m\n\u001b[1;32m----> 1\u001b[1;33m \u001b[0mfig\u001b[0m \u001b[1;33m=\u001b[0m \u001b[0mgmaps\u001b[0m\u001b[1;33m.\u001b[0m\u001b[0mfigure\u001b[0m\u001b[1;33m(\u001b[0m\u001b[1;33m)\u001b[0m\u001b[1;33m\u001b[0m\u001b[1;33m\u001b[0m\u001b[0m\n\u001b[0m\u001b[0;32m      2\u001b[0m happy_layer = gmaps.geojson_layer(\n\u001b[0;32m      3\u001b[0m     \u001b[0mcountries_geojson\u001b[0m\u001b[1;33m,\u001b[0m\u001b[1;33m\u001b[0m\u001b[1;33m\u001b[0m\u001b[0m\n\u001b[0;32m      4\u001b[0m     \u001b[0mfill_color\u001b[0m\u001b[1;33m=\u001b[0m\u001b[0mcolors\u001b[0m\u001b[1;33m,\u001b[0m\u001b[1;33m\u001b[0m\u001b[1;33m\u001b[0m\u001b[0m\n\u001b[0;32m      5\u001b[0m     \u001b[0mstroke_color\u001b[0m\u001b[1;33m=\u001b[0m\u001b[0mcolors\u001b[0m\u001b[1;33m,\u001b[0m\u001b[1;33m\u001b[0m\u001b[1;33m\u001b[0m\u001b[0m\n",
      "\u001b[1;31mNameError\u001b[0m: name 'gmaps' is not defined"
=======
   "execution_count": 21,
   "metadata": {},
   "outputs": [
    {
     "ename": "AttributeError",
     "evalue": "'Figure' object has no attribute 'savefig'",
     "output_type": "error",
     "traceback": [
      "\u001b[1;31m---------------------------------------------------------------------------\u001b[0m",
      "\u001b[1;31mAttributeError\u001b[0m                            Traceback (most recent call last)",
      "\u001b[1;32m<ipython-input-21-25e6c062ae62>\u001b[0m in \u001b[0;36m<module>\u001b[1;34m\u001b[0m\n\u001b[0;32m      9\u001b[0m \u001b[1;31m#plt.colorbar()\u001b[0m\u001b[1;33m\u001b[0m\u001b[1;33m\u001b[0m\u001b[1;33m\u001b[0m\u001b[0m\n\u001b[0;32m     10\u001b[0m \u001b[0mfig\u001b[0m\u001b[1;33m\u001b[0m\u001b[1;33m\u001b[0m\u001b[0m\n\u001b[1;32m---> 11\u001b[1;33m \u001b[0mfig\u001b[0m\u001b[1;33m.\u001b[0m\u001b[0msavefig\u001b[0m\u001b[1;33m(\u001b[0m\u001b[1;34m\"../ChartsTables/worldMapHappiness.csv\"\u001b[0m\u001b[1;33m)\u001b[0m\u001b[1;33m\u001b[0m\u001b[1;33m\u001b[0m\u001b[0m\n\u001b[0m",
      "\u001b[1;31mAttributeError\u001b[0m: 'Figure' object has no attribute 'savefig'"
>>>>>>> e88b5472ae469fdd1cba75e66628fdf9a0fee017
     ]
=======
   "execution_count": 76,
   "metadata": {},
   "outputs": [
    {
     "data": {
      "application/vnd.jupyter.widget-view+json": {
       "model_id": "c6da6b99809b4ae6ba1bf5528e24e145",
       "version_major": 2,
       "version_minor": 0
      },
      "text/plain": [
       "Figure(layout=FigureLayout(height='420px'))"
      ]
     },
     "metadata": {},
     "output_type": "display_data"
>>>>>>> 4b8de04a8b35ada61ef895b31b49c003153e4aca
    }
   ],
   "source": [
    "fig = gmaps.figure()\n",
    "happy_layer = gmaps.geojson_layer(\n",
    "    countries_geojson,\n",
    "    fill_color=colors,\n",
    "    stroke_color=colors,\n",
    "    fill_opacity=0.8)\n",
    "    #colorbar=dict(nticks=8, tickmode='array',tickvals=[2, 4, 6, 8]))\n",
    "fig.add_layer(happy_layer)\n",
    "#plt.colorbar()\n",
    "fig\n",
    "#fig.savefig(\"../ChartsTables/worldMapHappiness.csv\")"
   ]
  },
  {
   "cell_type": "code",
   "execution_count": 75,
   "metadata": {},
   "outputs": [],
   "source": [
    "from matplotlib.colors import LinearSegmentedColormap\n",
    "\n",
    "def grayscale_cmap(cmap):\n",
    "    \"\"\"Return a grayscale version of the given colormap\"\"\"\n",
    "    cmap = plt.cm.get_cmap(cmap)\n",
    "    colors = cmap(np.arange(cmap.N))\n",
    "    \n",
    "    # convert RGBA to perceived grayscale luminance\n",
    "    # cf. http://alienryderflex.com/hsp.html\n",
    "    RGB_weight = [0.299, 0.587, 0.114]\n",
    "    luminance = np.sqrt(np.dot(colors[:, :3] ** 2, RGB_weight))\n",
    "    colors[:, :3] = luminance[:, np.newaxis]\n",
    "        \n",
    "    return LinearSegmentedColormap.from_list(cmap.name + \"_gray\", colors, cmap.N)\n",
    "    \n",
    "\n",
    "def view_colormap(cmap):\n",
    "    \"\"\"Plot a colormap with its grayscale equivalent\"\"\"\n",
    "    cmap = plt.cm.get_cmap(cmap)\n",
    "    colors = cmap(np.arange(cmap.N))\n",
    "    \n",
    "    cmap = grayscale_cmap(cmap)\n",
    "    grayscale = cmap(np.arange(cmap.N))\n",
    "    \n",
    "    fig, ax = plt.subplots(2, figsize=(6, 2),\n",
    "                           subplot_kw=dict(xticks=[], yticks=[]))\n",
    "    ax[0].imshow([colors], extent=[0, 10, 0, 1])\n",
    "    ax[1].imshow([grayscale], extent=[0, 10, 0, 1])\n",
    "    #fig.text(\"words here\",y = 2, s = 3)\n",
    "    fig.text(.15,.65, \"most happy\", color = \"white\", fontsize = 13)\n",
    "    fig.text(.70,.65, \"least happy\", color = \"white\", fontsize = 13)#, horizontalalignment='center',verticalalignment='center', transform=ax.transAxes)"
   ]
  },
  {
   "cell_type": "code",
   "execution_count": 64,
   "metadata": {},
   "outputs": [
    {
     "data": {
      "image/png": "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\n",
      "text/plain": [
       "<Figure size 432x144 with 2 Axes>"
      ]
     },
     "metadata": {},
     "output_type": "display_data"
    }
   ],
   "source": [
    "view_colormap(jet)\n",
    "plt.savefig(\"colorbar.png\")"
   ]
  },
  {
   "cell_type": "code",
   "execution_count": null,
   "metadata": {},
   "outputs": [],
   "source": []
  }
 ],
 "metadata": {
  "kernelspec": {
   "display_name": "Python 3",
   "language": "python",
   "name": "python3"
  },
  "language_info": {
   "codemirror_mode": {
    "name": "ipython",
    "version": 3
   },
   "file_extension": ".py",
   "mimetype": "text/x-python",
   "name": "python",
   "nbconvert_exporter": "python",
   "pygments_lexer": "ipython3",
   "version": "3.7.3"
  }
 },
 "nbformat": 4,
 "nbformat_minor": 2
}
